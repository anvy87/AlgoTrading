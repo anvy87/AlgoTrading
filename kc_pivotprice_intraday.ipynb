{
  "cells": [
    {
      "cell_type": "markdown",
      "metadata": {
        "id": "view-in-github",
        "colab_type": "text"
      },
      "source": [
        "<a href=\"https://colab.research.google.com/github/anvy87/AlgoTrading/blob/master/kc_pivotprice_intraday.ipynb\" target=\"_parent\"><img src=\"https://colab.research.google.com/assets/colab-badge.svg\" alt=\"Open In Colab\"/></a>"
      ]
    },
    {
      "cell_type": "code",
      "execution_count": 1,
      "metadata": {
        "colab": {
          "base_uri": "https://localhost:8080/"
        },
        "collapsed": true,
        "id": "Poh-iK8oSQCS",
        "outputId": "1fb42819-1ce0-48f7-8a1c-5b913fcf5308"
      },
      "outputs": [
        {
          "output_type": "stream",
          "name": "stdout",
          "text": [
            "Collecting kiteconnect\n",
            "  Downloading kiteconnect-5.0.1-py3-none-any.whl.metadata (8.0 kB)\n",
            "Collecting service-identity>=18.1.0 (from kiteconnect)\n",
            "  Downloading service_identity-24.2.0-py3-none-any.whl.metadata (5.1 kB)\n",
            "Requirement already satisfied: requests>=2.18.4 in /usr/local/lib/python3.12/dist-packages (from kiteconnect) (2.32.4)\n",
            "Requirement already satisfied: six>=1.11.0 in /usr/local/lib/python3.12/dist-packages (from kiteconnect) (1.17.0)\n",
            "Requirement already satisfied: pyOpenSSL>=17.5.0 in /usr/local/lib/python3.12/dist-packages (from kiteconnect) (24.2.1)\n",
            "Requirement already satisfied: python-dateutil>=2.6.1 in /usr/local/lib/python3.12/dist-packages (from kiteconnect) (2.9.0.post0)\n",
            "Collecting autobahn==19.11.2 (from autobahn[twisted]==19.11.2->kiteconnect)\n",
            "  Downloading autobahn-19.11.2-py2.py3-none-any.whl.metadata (16 kB)\n",
            "Collecting txaio>=18.8.1 (from autobahn==19.11.2->autobahn[twisted]==19.11.2->kiteconnect)\n",
            "  Downloading txaio-25.6.1-py2.py3-none-any.whl.metadata (7.1 kB)\n",
            "Requirement already satisfied: cryptography>=2.7 in /usr/local/lib/python3.12/dist-packages (from autobahn==19.11.2->autobahn[twisted]==19.11.2->kiteconnect) (43.0.3)\n",
            "Collecting zope.interface>=3.6.0 (from autobahn[twisted]==19.11.2->kiteconnect)\n",
            "  Downloading zope.interface-7.2-cp312-cp312-manylinux_2_5_x86_64.manylinux1_x86_64.manylinux_2_17_x86_64.manylinux2014_x86_64.whl.metadata (44 kB)\n",
            "\u001b[2K     \u001b[90m━━━━━━━━━━━━━━━━━━━━━━━━━━━━━━━━━━━━━━━━\u001b[0m \u001b[32m44.4/44.4 kB\u001b[0m \u001b[31m2.3 MB/s\u001b[0m eta \u001b[36m0:00:00\u001b[0m\n",
            "\u001b[?25hCollecting Twisted>=12.1.0 (from autobahn[twisted]==19.11.2->kiteconnect)\n",
            "  Downloading twisted-25.5.0-py3-none-any.whl.metadata (22 kB)\n",
            "Requirement already satisfied: charset_normalizer<4,>=2 in /usr/local/lib/python3.12/dist-packages (from requests>=2.18.4->kiteconnect) (3.4.3)\n",
            "Requirement already satisfied: idna<4,>=2.5 in /usr/local/lib/python3.12/dist-packages (from requests>=2.18.4->kiteconnect) (3.10)\n",
            "Requirement already satisfied: urllib3<3,>=1.21.1 in /usr/local/lib/python3.12/dist-packages (from requests>=2.18.4->kiteconnect) (2.5.0)\n",
            "Requirement already satisfied: certifi>=2017.4.17 in /usr/local/lib/python3.12/dist-packages (from requests>=2.18.4->kiteconnect) (2025.8.3)\n",
            "Requirement already satisfied: attrs>=19.1.0 in /usr/local/lib/python3.12/dist-packages (from service-identity>=18.1.0->kiteconnect) (25.3.0)\n",
            "Requirement already satisfied: pyasn1 in /usr/local/lib/python3.12/dist-packages (from service-identity>=18.1.0->kiteconnect) (0.6.1)\n",
            "Requirement already satisfied: pyasn1-modules in /usr/local/lib/python3.12/dist-packages (from service-identity>=18.1.0->kiteconnect) (0.4.2)\n",
            "Requirement already satisfied: cffi>=1.12 in /usr/local/lib/python3.12/dist-packages (from cryptography>=2.7->autobahn==19.11.2->autobahn[twisted]==19.11.2->kiteconnect) (1.17.1)\n",
            "Collecting automat>=24.8.0 (from Twisted>=12.1.0->autobahn[twisted]==19.11.2->kiteconnect)\n",
            "  Downloading automat-25.4.16-py3-none-any.whl.metadata (8.4 kB)\n",
            "Collecting constantly>=15.1 (from Twisted>=12.1.0->autobahn[twisted]==19.11.2->kiteconnect)\n",
            "  Downloading constantly-23.10.4-py3-none-any.whl.metadata (1.8 kB)\n",
            "Collecting hyperlink>=17.1.1 (from Twisted>=12.1.0->autobahn[twisted]==19.11.2->kiteconnect)\n",
            "  Downloading hyperlink-21.0.0-py2.py3-none-any.whl.metadata (1.5 kB)\n",
            "Collecting incremental>=24.7.0 (from Twisted>=12.1.0->autobahn[twisted]==19.11.2->kiteconnect)\n",
            "  Downloading incremental-24.7.2-py3-none-any.whl.metadata (8.1 kB)\n",
            "Requirement already satisfied: typing-extensions>=4.2.0 in /usr/local/lib/python3.12/dist-packages (from Twisted>=12.1.0->autobahn[twisted]==19.11.2->kiteconnect) (4.14.1)\n",
            "Requirement already satisfied: setuptools in /usr/local/lib/python3.12/dist-packages (from zope.interface>=3.6.0->autobahn[twisted]==19.11.2->kiteconnect) (75.2.0)\n",
            "Requirement already satisfied: pycparser in /usr/local/lib/python3.12/dist-packages (from cffi>=1.12->cryptography>=2.7->autobahn==19.11.2->autobahn[twisted]==19.11.2->kiteconnect) (2.22)\n",
            "Downloading kiteconnect-5.0.1-py3-none-any.whl (24 kB)\n",
            "Downloading autobahn-19.11.2-py2.py3-none-any.whl (771 kB)\n",
            "\u001b[2K   \u001b[90m━━━━━━━━━━━━━━━━━━━━━━━━━━━━━━━━━━━━━━━━\u001b[0m \u001b[32m771.5/771.5 kB\u001b[0m \u001b[31m13.9 MB/s\u001b[0m eta \u001b[36m0:00:00\u001b[0m\n",
            "\u001b[?25hDownloading service_identity-24.2.0-py3-none-any.whl (11 kB)\n",
            "Downloading twisted-25.5.0-py3-none-any.whl (3.2 MB)\n",
            "\u001b[2K   \u001b[90m━━━━━━━━━━━━━━━━━━━━━━━━━━━━━━━━━━━━━━━━\u001b[0m \u001b[32m3.2/3.2 MB\u001b[0m \u001b[31m54.6 MB/s\u001b[0m eta \u001b[36m0:00:00\u001b[0m\n",
            "\u001b[?25hDownloading txaio-25.6.1-py2.py3-none-any.whl (31 kB)\n",
            "Downloading zope.interface-7.2-cp312-cp312-manylinux_2_5_x86_64.manylinux1_x86_64.manylinux_2_17_x86_64.manylinux2014_x86_64.whl (264 kB)\n",
            "\u001b[2K   \u001b[90m━━━━━━━━━━━━━━━━━━━━━━━━━━━━━━━━━━━━━━━━\u001b[0m \u001b[32m264.7/264.7 kB\u001b[0m \u001b[31m12.5 MB/s\u001b[0m eta \u001b[36m0:00:00\u001b[0m\n",
            "\u001b[?25hDownloading automat-25.4.16-py3-none-any.whl (42 kB)\n",
            "\u001b[2K   \u001b[90m━━━━━━━━━━━━━━━━━━━━━━━━━━━━━━━━━━━━━━━━\u001b[0m \u001b[32m42.8/42.8 kB\u001b[0m \u001b[31m2.1 MB/s\u001b[0m eta \u001b[36m0:00:00\u001b[0m\n",
            "\u001b[?25hDownloading constantly-23.10.4-py3-none-any.whl (13 kB)\n",
            "Downloading hyperlink-21.0.0-py2.py3-none-any.whl (74 kB)\n",
            "\u001b[2K   \u001b[90m━━━━━━━━━━━━━━━━━━━━━━━━━━━━━━━━━━━━━━━━\u001b[0m \u001b[32m74.6/74.6 kB\u001b[0m \u001b[31m5.8 MB/s\u001b[0m eta \u001b[36m0:00:00\u001b[0m\n",
            "\u001b[?25hDownloading incremental-24.7.2-py3-none-any.whl (20 kB)\n",
            "Installing collected packages: zope.interface, txaio, incremental, hyperlink, constantly, automat, Twisted, service-identity, autobahn, kiteconnect\n",
            "Successfully installed Twisted-25.5.0 autobahn-19.11.2 automat-25.4.16 constantly-23.10.4 hyperlink-21.0.0 incremental-24.7.2 kiteconnect-5.0.1 service-identity-24.2.0 txaio-25.6.1 zope.interface-7.2\n"
          ]
        }
      ],
      "source": [
        "pip install kiteconnect"
      ]
    },
    {
      "cell_type": "code",
      "execution_count": 2,
      "metadata": {
        "id": "SKV9cb05SR7a"
      },
      "outputs": [],
      "source": [
        "from kiteconnect import KiteConnect\n",
        "import pandas as pd\n",
        "import numpy as np\n",
        "import logging\n",
        "import os\n",
        "import time\n",
        "import datetime as dt\n",
        "api_key = \"1ll4p8ziqlk8hh7g\"\n",
        "api_secret = \"x59r5u1vd25annfpgts22wv8ykfueirl\"\n",
        "kite = KiteConnect(api_key=api_key)"
      ]
    },
    {
      "cell_type": "code",
      "execution_count": 4,
      "metadata": {
        "colab": {
          "base_uri": "https://localhost:8080/"
        },
        "id": "K2xUHKxoSl4a",
        "outputId": "3d460d27-20c3-4770-e141-fc72c9c35c18"
      },
      "outputs": [
        {
          "output_type": "stream",
          "name": "stdout",
          "text": [
            "https://kite.zerodha.com/connect/login?api_key=1ll4p8ziqlk8hh7g&v=3\n"
          ]
        }
      ],
      "source": [
        "print(kite.login_url()) #use this url to manually login and authorize yourself"
      ]
    },
    {
      "cell_type": "code",
      "execution_count": 5,
      "metadata": {
        "id": "BG-9VqVbSohc"
      },
      "outputs": [],
      "source": [
        "#generate trading session\n",
        "request_token = \"8BvyDbnoEXSLRkTd8vafz0ap9KD4dDwq\" #Extract request token from the redirect url obtained after you authorize yourself by loggin in\n",
        "data = kite.generate_session(request_token, api_secret=api_secret)\n",
        "#create kite trading object\n",
        "kite.set_access_token(data[\"access_token\"])"
      ]
    },
    {
      "cell_type": "code",
      "execution_count": 6,
      "metadata": {
        "id": "j0dSgDAQSvMW"
      },
      "outputs": [],
      "source": [
        "#get dump of all NSE instruments\n",
        "instrument_dump = kite.instruments(\"NSE\")\n",
        "instrument_df = pd.DataFrame(instrument_dump)\n",
        "instrument_df.to_csv(\"NSE_Instruments.csv\",index=False)"
      ]
    },
    {
      "cell_type": "code",
      "execution_count": 7,
      "metadata": {
        "id": "rUcyEyUzXoaC"
      },
      "outputs": [],
      "source": [
        "def instrumentLookup(instrument_df,symbol):\n",
        "    \"\"\"Looks up instrument token for a given script from instrument dump\"\"\"\n",
        "    try:\n",
        "        return instrument_df[instrument_df.tradingsymbol==symbol].instrument_token.values[0]\n",
        "    except:\n",
        "        return -1"
      ]
    },
    {
      "cell_type": "code",
      "execution_count": 32,
      "metadata": {
        "id": "smHTwRu4Xz98"
      },
      "outputs": [],
      "source": [
        "def fetchOHLC(ticker,interval,duration):\n",
        "  \"\"\"extracts historcial data and outputs in the form of dataframe\"\"\"\n",
        "  instrument = instrumentLookup(instrument_df,ticker)\n",
        "  data = pd.DataFrame(kite.historical_data(instrument,dt.date.today()-dt.timedelta(duration),dt.date.today(),interval))\n",
        "  # data1 = pd.DataFrame(kite.historical_data(instrument,dt.date.today(),dt.date.today(),interval))\n",
        "  # print(data1.head())\n",
        "  data.set_index(\"date\",inplace=True)\n",
        "  return data"
      ]
    },
    {
      "cell_type": "code",
      "source": [
        "# List of Nifty 50 constituent trading symbols (update as per latest list)\n",
        "nifty50_symbols = [\"RELIANCE\", \"HDFCBANK\", \"BHARTIARTL\", \"TCS\", \"ICICIBANK\", \"SBIN\", \"INFY\", \"HINDUNILVR\", \"BAJFINANCE\", \"ITC\"]"
      ],
      "metadata": {
        "id": "6j029xruLQoi"
      },
      "execution_count": 9,
      "outputs": []
    },
    {
      "cell_type": "code",
      "source": [
        "instrument_token = [6401, 40193, 60417, 81153, 98049, 119553, 177665, 225537, 315393, 341249, 345089, 348929, 408065, 424961, 492033, 502785, 519937,\n",
        " 633601, 738561, 779521, 857857, 878593, 884737, 895745, 897537, 969473, 1270529, 1304833, 1346049, 1510401, 1850625, 2815745, 2939649,\n",
        " 2952193, 2953217, 2977281, 3001089, 3465729, 4267265, 4268801, 4598529, 4644609, 5215745, 5582849, 3861249]"
      ],
      "metadata": {
        "id": "Yi3SICPGECOP"
      },
      "execution_count": 10,
      "outputs": []
    },
    {
      "cell_type": "markdown",
      "metadata": {
        "id": "4z5arO_lqJY0"
      },
      "source": [
        "# **placing order**"
      ]
    },
    {
      "cell_type": "code",
      "execution_count": 11,
      "metadata": {
        "id": "l7xpzX_tqNen"
      },
      "outputs": [],
      "source": [
        "def placeMarketOrder(symbol, buy_sell, quantity):\n",
        "  # place intraday market order on NSE\n",
        "  if buy_sell == \"buy\":\n",
        "    t_type = kite.TRANSACTION_TYPE_BUY\n",
        "  elif buy_sell == \"sell\":\n",
        "    t_type = kite.TRANSACTION_TYPE_SELL\n",
        "  kite.place_order(tradingsymbol=symbol,\n",
        "                   exchange=kite.EXCHANGE_NSE,\n",
        "                   transaction_type=t_type,\n",
        "                   quantity=5*quantity, # 5x leverage\n",
        "                   order_type=kite.ORDER_TYPE_MARKET,\n",
        "                   product=kite.PRODUCT_MIS,\n",
        "                   variety=kite.VARIETY_REGULAR)"
      ]
    },
    {
      "cell_type": "code",
      "source": [
        "df.iloc[20, : ]['close']"
      ],
      "metadata": {
        "id": "eD8Q7CWWIZ-M",
        "outputId": "85b38217-d872-4319-cf7e-f25eff4f47ac",
        "colab": {
          "base_uri": "https://localhost:8080/"
        }
      },
      "execution_count": 21,
      "outputs": [
        {
          "output_type": "execute_result",
          "data": {
            "text/plain": [
              "np.float64(830.9)"
            ]
          },
          "metadata": {},
          "execution_count": 21
        }
      ]
    },
    {
      "cell_type": "code",
      "source": [
        "df_yesterday = fetchOHLC(\"SBIN\",\"5minute\", 3)\n",
        "print(\"SBIN\", df_yesterday.head(30))\n",
        "close_11am = df.iloc[20, : ]['close']\n",
        "print(close_11am)\n",
        "df_today = fetchOHLC(\"SBIN\",\"5minute\",0)\n",
        "print(df_today.head())\n",
        "intraday_high = df_today['high'].max()\n",
        "print(intraday_high)\n",
        "intraday_low = df_today['low'].min()\n",
        "print(intraday_low)\n",
        "capital = 10000 #position size\n",
        "quantity = int(capital/df_today[\"close\"][-1])\n",
        "'''instrument = instrumentLookup(instrument_df, i)\n",
        "if instrument != -1: # Check if instrument token was found\n",
        "    yesterday_close = kite.quote([instrument])[str(instrument)]['ohlc']['close'] # Use instrument token as key\n",
        "    #print(close_11am)\n",
        "    #print(f\"{i}: {yesterday_close}\") # Print the symbol and its close price\n",
        "else:\n",
        "    print(f\"Instrument token not found for {i}\")'''\n",
        "pivot_price = (intraday_high+intraday_low+yesterday_close)/3\n",
        "#print(pivot_price, close_11am)\n",
        "if close_11am > pivot_price:\n",
        "  print(f\"buy SBIN\")\n",
        "  #placeMarketOrder(i, \"buy\", quantity)\n",
        "elif close_11am < pivot_price:\n",
        "  print(f\"sell SBIN\")\n",
        "  #placeMarketOrder(i, \"sell\", quantity)"
      ],
      "metadata": {
        "id": "21ngAHtvGr0i",
        "outputId": "11af5e58-39ea-47e2-c463-edf4ac0576ee",
        "colab": {
          "base_uri": "https://localhost:8080/"
        }
      },
      "execution_count": 36,
      "outputs": [
        {
          "output_type": "stream",
          "name": "stdout",
          "text": [
            "SBIN                              open    high     low   close  volume\n",
            "date                                                             \n",
            "2025-08-22 09:15:00+05:30  824.00  826.00  824.00  825.05  130252\n",
            "2025-08-22 09:20:00+05:30  825.20  825.40  824.50  824.70   66527\n",
            "2025-08-22 09:25:00+05:30  824.75  824.75  823.30  823.80   96588\n",
            "2025-08-22 09:30:00+05:30  823.65  823.80  821.80  822.10   93507\n",
            "2025-08-22 09:35:00+05:30  822.25  822.95  822.00  822.65   71168\n",
            "2025-08-22 09:40:00+05:30  822.80  823.25  822.60  822.75   32982\n",
            "2025-08-22 09:45:00+05:30  822.75  822.90  822.35  822.50   39704\n",
            "2025-08-22 09:50:00+05:30  822.45  823.00  822.40  822.55   24815\n",
            "2025-08-22 09:55:00+05:30  822.50  822.50  821.50  821.85   66304\n",
            "2025-08-22 10:00:00+05:30  821.90  821.90  820.60  821.15  106648\n",
            "2025-08-22 10:05:00+05:30  821.20  822.55  821.05  822.10   33477\n",
            "2025-08-22 10:10:00+05:30  822.15  822.70  822.05  822.70   29360\n",
            "2025-08-22 10:15:00+05:30  822.60  822.70  821.70  821.80   38141\n",
            "2025-08-22 10:20:00+05:30  821.80  822.45  821.70  821.95   90893\n",
            "2025-08-22 10:25:00+05:30  821.90  822.75  821.65  822.55   81768\n",
            "2025-08-22 10:30:00+05:30  822.55  822.65  821.65  821.75   40512\n",
            "2025-08-22 10:35:00+05:30  821.80  822.00  821.10  821.25   28055\n",
            "2025-08-22 10:40:00+05:30  821.25  821.40  820.70  821.00   54796\n",
            "2025-08-22 10:45:00+05:30  821.00  821.45  820.90  821.00   29091\n",
            "2025-08-22 10:50:00+05:30  821.00  821.45  820.90  820.95   40096\n",
            "2025-08-22 10:55:00+05:30  820.95  821.20  820.70  821.05   43202\n",
            "2025-08-22 11:00:00+05:30  821.05  821.65  820.70  821.35   51990\n",
            "2025-08-22 11:05:00+05:30  821.35  821.65  820.80  821.40   41420\n",
            "2025-08-22 11:10:00+05:30  821.40  821.45  820.75  820.95   30005\n",
            "2025-08-22 11:15:00+05:30  820.85  821.15  820.10  820.60   84807\n",
            "2025-08-22 11:20:00+05:30  820.60  820.90  820.30  820.30   33743\n",
            "2025-08-22 11:25:00+05:30  820.30  821.00  820.20  820.65   27387\n",
            "2025-08-22 11:30:00+05:30  820.75  821.00  820.60  820.85   25788\n",
            "2025-08-22 11:35:00+05:30  820.85  821.20  820.50  820.75   28512\n",
            "2025-08-22 11:40:00+05:30  820.75  821.60  820.70  821.50   48896\n",
            "821.05\n",
            "                             open    high    low   close  volume\n",
            "date                                                            \n",
            "2025-08-25 09:15:00+05:30  817.45  820.05  817.2  817.85  175146\n",
            "2025-08-25 09:20:00+05:30  817.95  818.50  817.4  817.50   81343\n",
            "2025-08-25 09:25:00+05:30  817.40  818.00  817.0  817.75   40831\n",
            "820.05\n",
            "817.0\n",
            "buy SBIN\n"
          ]
        },
        {
          "output_type": "stream",
          "name": "stderr",
          "text": [
            "/tmp/ipython-input-3458887839.py:12: FutureWarning: Series.__getitem__ treating keys as positions is deprecated. In a future version, integer keys will always be treated as labels (consistent with DataFrame behavior). To access a value by position, use `ser.iloc[pos]`\n",
            "  quantity = int(capital/df_today[\"close\"][-1])\n"
          ]
        }
      ]
    },
    {
      "cell_type": "code",
      "source": [
        "for i in nifty50_symbols:\n",
        "  df = fetchOHLC(i,\"5minute\", 4)\n",
        "  #print(i, df)\n",
        "  capital = 10000 #position size\n",
        "  quantity = int(capital/df[\"close\"][-1])\n",
        "  close_11am = df.iloc[20, : ]['close']\n",
        "  intraday_high = df['high'].max()\n",
        "  intraday_low = df['low'].min()\n",
        "  instrument = instrumentLookup(instrument_df, i)\n",
        "  if instrument != -1: # Check if instrument token was found\n",
        "      yesterday_close = kite.quote([instrument])[str(instrument)]['ohlc']['close'] # Use instrument token as key\n",
        "      #print(close_11am)\n",
        "      #print(f\"{i}: {yesterday_close}\") # Print the symbol and its close price\n",
        "  else:\n",
        "      print(f\"Instrument token not found for {i}\")\n",
        "  pivot_price = (intraday_high+intraday_low+yesterday_close)/3\n",
        "  #print(pivot_price, close_11am)\n",
        "  if close_11am > pivot_price:\n",
        "    print(f\"buy {i}\")\n",
        "    #placeMarketOrder(i, \"buy\", quantity)\n",
        "  elif close_11am < pivot_price:\n",
        "    print(f\"sell {i}\")\n",
        "    #placeMarketOrder(i, \"sell\", quantity)"
      ],
      "metadata": {
        "colab": {
          "base_uri": "https://localhost:8080/"
        },
        "collapsed": true,
        "id": "pvsphnI7NH9C",
        "outputId": "b94f93ed-1992-4be9-a7f5-0a30e923cbd6"
      },
      "execution_count": 13,
      "outputs": [
        {
          "output_type": "stream",
          "name": "stderr",
          "text": [
            "/tmp/ipython-input-3467370738.py:5: FutureWarning: Series.__getitem__ treating keys as positions is deprecated. In a future version, integer keys will always be treated as labels (consistent with DataFrame behavior). To access a value by position, use `ser.iloc[pos]`\n",
            "  quantity = int(capital/df[\"close\"][-1])\n"
          ]
        },
        {
          "output_type": "stream",
          "name": "stdout",
          "text": [
            "buy RELIANCE\n",
            "buy HDFCBANK\n",
            "buy BHARTIARTL\n",
            "buy TCS\n",
            "buy ICICIBANK\n",
            "buy SBIN\n",
            "buy INFY\n",
            "buy HINDUNILVR\n",
            "sell BAJFINANCE\n",
            "buy ITC\n"
          ]
        }
      ]
    },
    {
      "cell_type": "code",
      "source": [],
      "metadata": {
        "id": "FVwWl_mooykw"
      },
      "execution_count": null,
      "outputs": []
    }
  ],
  "metadata": {
    "colab": {
      "provenance": [],
      "authorship_tag": "ABX9TyPvjZ4Xz/YtU1Gxmrc+Vn9W",
      "include_colab_link": true
    },
    "kernelspec": {
      "display_name": "Python 3",
      "name": "python3"
    },
    "language_info": {
      "name": "python"
    }
  },
  "nbformat": 4,
  "nbformat_minor": 0
}