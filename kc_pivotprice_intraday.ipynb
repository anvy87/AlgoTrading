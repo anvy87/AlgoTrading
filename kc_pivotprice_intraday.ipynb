{
  "cells": [
    {
      "cell_type": "markdown",
      "metadata": {
        "id": "view-in-github",
        "colab_type": "text"
      },
      "source": [
        "<a href=\"https://colab.research.google.com/github/anvy87/AlgoTrading/blob/master/kc_pivotprice_intraday.ipynb\" target=\"_parent\"><img src=\"https://colab.research.google.com/assets/colab-badge.svg\" alt=\"Open In Colab\"/></a>"
      ]
    },
    {
      "cell_type": "code",
      "execution_count": null,
      "metadata": {
        "colab": {
          "base_uri": "https://localhost:8080/"
        },
        "collapsed": true,
        "id": "Poh-iK8oSQCS",
        "outputId": "afcc30ca-1958-4864-f349-8b5a64dab3ee"
      },
      "outputs": [
        {
          "output_type": "stream",
          "name": "stdout",
          "text": [
            "Collecting kiteconnect\n",
            "  Downloading kiteconnect-5.0.1-py3-none-any.whl.metadata (8.0 kB)\n",
            "Collecting service-identity>=18.1.0 (from kiteconnect)\n",
            "  Downloading service_identity-24.2.0-py3-none-any.whl.metadata (5.1 kB)\n",
            "Requirement already satisfied: requests>=2.18.4 in /usr/local/lib/python3.11/dist-packages (from kiteconnect) (2.32.3)\n",
            "Requirement already satisfied: six>=1.11.0 in /usr/local/lib/python3.11/dist-packages (from kiteconnect) (1.17.0)\n",
            "Requirement already satisfied: pyOpenSSL>=17.5.0 in /usr/local/lib/python3.11/dist-packages (from kiteconnect) (24.2.1)\n",
            "Requirement already satisfied: python-dateutil>=2.6.1 in /usr/local/lib/python3.11/dist-packages (from kiteconnect) (2.9.0.post0)\n",
            "Collecting autobahn==19.11.2 (from autobahn[twisted]==19.11.2->kiteconnect)\n",
            "  Downloading autobahn-19.11.2-py2.py3-none-any.whl.metadata (16 kB)\n",
            "Collecting txaio>=18.8.1 (from autobahn==19.11.2->autobahn[twisted]==19.11.2->kiteconnect)\n",
            "  Downloading txaio-25.6.1-py2.py3-none-any.whl.metadata (7.1 kB)\n",
            "Requirement already satisfied: cryptography>=2.7 in /usr/local/lib/python3.11/dist-packages (from autobahn==19.11.2->autobahn[twisted]==19.11.2->kiteconnect) (43.0.3)\n",
            "Collecting zope.interface>=3.6.0 (from autobahn[twisted]==19.11.2->kiteconnect)\n",
            "  Downloading zope.interface-7.2-cp311-cp311-manylinux_2_5_x86_64.manylinux1_x86_64.manylinux_2_17_x86_64.manylinux2014_x86_64.whl.metadata (44 kB)\n",
            "\u001b[2K     \u001b[90m━━━━━━━━━━━━━━━━━━━━━━━━━━━━━━━━━━━━━━━━\u001b[0m \u001b[32m44.4/44.4 kB\u001b[0m \u001b[31m1.4 MB/s\u001b[0m eta \u001b[36m0:00:00\u001b[0m\n",
            "\u001b[?25hCollecting Twisted>=12.1.0 (from autobahn[twisted]==19.11.2->kiteconnect)\n",
            "  Downloading twisted-25.5.0-py3-none-any.whl.metadata (22 kB)\n",
            "Requirement already satisfied: charset-normalizer<4,>=2 in /usr/local/lib/python3.11/dist-packages (from requests>=2.18.4->kiteconnect) (3.4.2)\n",
            "Requirement already satisfied: idna<4,>=2.5 in /usr/local/lib/python3.11/dist-packages (from requests>=2.18.4->kiteconnect) (3.10)\n",
            "Requirement already satisfied: urllib3<3,>=1.21.1 in /usr/local/lib/python3.11/dist-packages (from requests>=2.18.4->kiteconnect) (2.5.0)\n",
            "Requirement already satisfied: certifi>=2017.4.17 in /usr/local/lib/python3.11/dist-packages (from requests>=2.18.4->kiteconnect) (2025.8.3)\n",
            "Requirement already satisfied: attrs>=19.1.0 in /usr/local/lib/python3.11/dist-packages (from service-identity>=18.1.0->kiteconnect) (25.3.0)\n",
            "Requirement already satisfied: pyasn1 in /usr/local/lib/python3.11/dist-packages (from service-identity>=18.1.0->kiteconnect) (0.6.1)\n",
            "Requirement already satisfied: pyasn1-modules in /usr/local/lib/python3.11/dist-packages (from service-identity>=18.1.0->kiteconnect) (0.4.2)\n",
            "Requirement already satisfied: cffi>=1.12 in /usr/local/lib/python3.11/dist-packages (from cryptography>=2.7->autobahn==19.11.2->autobahn[twisted]==19.11.2->kiteconnect) (1.17.1)\n",
            "Collecting automat>=24.8.0 (from Twisted>=12.1.0->autobahn[twisted]==19.11.2->kiteconnect)\n",
            "  Downloading automat-25.4.16-py3-none-any.whl.metadata (8.4 kB)\n",
            "Collecting constantly>=15.1 (from Twisted>=12.1.0->autobahn[twisted]==19.11.2->kiteconnect)\n",
            "  Downloading constantly-23.10.4-py3-none-any.whl.metadata (1.8 kB)\n",
            "Collecting hyperlink>=17.1.1 (from Twisted>=12.1.0->autobahn[twisted]==19.11.2->kiteconnect)\n",
            "  Downloading hyperlink-21.0.0-py2.py3-none-any.whl.metadata (1.5 kB)\n",
            "Collecting incremental>=24.7.0 (from Twisted>=12.1.0->autobahn[twisted]==19.11.2->kiteconnect)\n",
            "  Downloading incremental-24.7.2-py3-none-any.whl.metadata (8.1 kB)\n",
            "Requirement already satisfied: typing-extensions>=4.2.0 in /usr/local/lib/python3.11/dist-packages (from Twisted>=12.1.0->autobahn[twisted]==19.11.2->kiteconnect) (4.14.1)\n",
            "Requirement already satisfied: setuptools in /usr/local/lib/python3.11/dist-packages (from zope.interface>=3.6.0->autobahn[twisted]==19.11.2->kiteconnect) (75.2.0)\n",
            "Requirement already satisfied: pycparser in /usr/local/lib/python3.11/dist-packages (from cffi>=1.12->cryptography>=2.7->autobahn==19.11.2->autobahn[twisted]==19.11.2->kiteconnect) (2.22)\n",
            "Downloading kiteconnect-5.0.1-py3-none-any.whl (24 kB)\n",
            "Downloading autobahn-19.11.2-py2.py3-none-any.whl (771 kB)\n",
            "\u001b[2K   \u001b[90m━━━━━━━━━━━━━━━━━━━━━━━━━━━━━━━━━━━━━━━━\u001b[0m \u001b[32m771.5/771.5 kB\u001b[0m \u001b[31m13.0 MB/s\u001b[0m eta \u001b[36m0:00:00\u001b[0m\n",
            "\u001b[?25hDownloading service_identity-24.2.0-py3-none-any.whl (11 kB)\n",
            "Downloading twisted-25.5.0-py3-none-any.whl (3.2 MB)\n",
            "\u001b[2K   \u001b[90m━━━━━━━━━━━━━━━━━━━━━━━━━━━━━━━━━━━━━━━━\u001b[0m \u001b[32m3.2/3.2 MB\u001b[0m \u001b[31m54.3 MB/s\u001b[0m eta \u001b[36m0:00:00\u001b[0m\n",
            "\u001b[?25hDownloading txaio-25.6.1-py2.py3-none-any.whl (31 kB)\n",
            "Downloading zope.interface-7.2-cp311-cp311-manylinux_2_5_x86_64.manylinux1_x86_64.manylinux_2_17_x86_64.manylinux2014_x86_64.whl (259 kB)\n",
            "\u001b[2K   \u001b[90m━━━━━━━━━━━━━━━━━━━━━━━━━━━━━━━━━━━━━━━━\u001b[0m \u001b[32m259.8/259.8 kB\u001b[0m \u001b[31m17.8 MB/s\u001b[0m eta \u001b[36m0:00:00\u001b[0m\n",
            "\u001b[?25hDownloading automat-25.4.16-py3-none-any.whl (42 kB)\n",
            "\u001b[2K   \u001b[90m━━━━━━━━━━━━━━━━━━━━━━━━━━━━━━━━━━━━━━━━\u001b[0m \u001b[32m42.8/42.8 kB\u001b[0m \u001b[31m2.6 MB/s\u001b[0m eta \u001b[36m0:00:00\u001b[0m\n",
            "\u001b[?25hDownloading constantly-23.10.4-py3-none-any.whl (13 kB)\n",
            "Downloading hyperlink-21.0.0-py2.py3-none-any.whl (74 kB)\n",
            "\u001b[2K   \u001b[90m━━━━━━━━━━━━━━━━━━━━━━━━━━━━━━━━━━━━━━━━\u001b[0m \u001b[32m74.6/74.6 kB\u001b[0m \u001b[31m8.0 MB/s\u001b[0m eta \u001b[36m0:00:00\u001b[0m\n",
            "\u001b[?25hDownloading incremental-24.7.2-py3-none-any.whl (20 kB)\n",
            "Installing collected packages: zope.interface, txaio, incremental, hyperlink, constantly, automat, Twisted, service-identity, autobahn, kiteconnect\n",
            "Successfully installed Twisted-25.5.0 autobahn-19.11.2 automat-25.4.16 constantly-23.10.4 hyperlink-21.0.0 incremental-24.7.2 kiteconnect-5.0.1 service-identity-24.2.0 txaio-25.6.1 zope.interface-7.2\n"
          ]
        }
      ],
      "source": [
        "pip install kiteconnect"
      ]
    },
    {
      "cell_type": "code",
      "execution_count": null,
      "metadata": {
        "id": "SKV9cb05SR7a"
      },
      "outputs": [],
      "source": [
        "from kiteconnect import KiteConnect\n",
        "import pandas as pd\n",
        "import numpy as np\n",
        "import logging\n",
        "import os\n",
        "import time\n",
        "import datetime as dt\n",
        "api_key = \"1ll4p8ziqlk8hh7g\"\n",
        "api_secret = \"x59r5u1vd25annfpgts22wv8ykfueirl\"\n",
        "kite = KiteConnect(api_key=api_key)"
      ]
    },
    {
      "cell_type": "code",
      "execution_count": null,
      "metadata": {
        "colab": {
          "base_uri": "https://localhost:8080/"
        },
        "id": "K2xUHKxoSl4a",
        "outputId": "3e3610a7-1a03-481b-9018-d12075db8e83"
      },
      "outputs": [
        {
          "output_type": "stream",
          "name": "stdout",
          "text": [
            "https://kite.zerodha.com/connect/login?api_key=1ll4p8ziqlk8hh7g&v=3\n"
          ]
        }
      ],
      "source": [
        "print(kite.login_url()) #use this url to manually login and authorize yourself"
      ]
    },
    {
      "cell_type": "code",
      "execution_count": null,
      "metadata": {
        "id": "BG-9VqVbSohc"
      },
      "outputs": [],
      "source": [
        "#generate trading session\n",
        "request_token = \"PsxN2kg5af2F8VFegqsMSaKMf74bcjF6\" #Extract request token from the redirect url obtained after you authorize yourself by loggin in\n",
        "data = kite.generate_session(request_token, api_secret=api_secret)\n",
        "#create kite trading object\n",
        "kite.set_access_token(data[\"access_token\"])"
      ]
    },
    {
      "cell_type": "code",
      "execution_count": null,
      "metadata": {
        "id": "j0dSgDAQSvMW"
      },
      "outputs": [],
      "source": [
        "#get dump of all NSE instruments\n",
        "instrument_dump = kite.instruments(\"NSE\")\n",
        "instrument_df = pd.DataFrame(instrument_dump)\n",
        "instrument_df.to_csv(\"NSE_Instruments.csv\",index=False)"
      ]
    },
    {
      "cell_type": "code",
      "execution_count": null,
      "metadata": {
        "id": "rUcyEyUzXoaC"
      },
      "outputs": [],
      "source": [
        "def instrumentLookup(instrument_df,symbol):\n",
        "    \"\"\"Looks up instrument token for a given script from instrument dump\"\"\"\n",
        "    try:\n",
        "        return instrument_df[instrument_df.tradingsymbol==symbol].instrument_token.values[0]\n",
        "    except:\n",
        "        return -1"
      ]
    },
    {
      "cell_type": "code",
      "execution_count": null,
      "metadata": {
        "id": "smHTwRu4Xz98"
      },
      "outputs": [],
      "source": [
        "def fetchOHLC(ticker,interval,duration):\n",
        "  \"\"\"extracts historcial data and outputs in the form of dataframe\"\"\"\n",
        "  instrument = instrumentLookup(instrument_df,ticker)\n",
        "  data = pd.DataFrame(kite.historical_data(instrument,dt.date.today()-dt.timedelta(duration),dt.date.today(),interval))\n",
        "  data.set_index(\"date\",inplace=True)\n",
        "  return data"
      ]
    },
    {
      "cell_type": "code",
      "source": [
        "# List of Nifty 50 constituent trading symbols (update as per latest list)\n",
        "nifty50_symbols = [\"RELIANCE\", \"HDFCBANK\", \"BHARTIARTL\", \"TCS\", \"ICICIBANK\", \"SBIN\", \"INFY\", \"HINDUNILVR\", \"BAJFINANCE\", \"ITC\"]"
      ],
      "metadata": {
        "id": "6j029xruLQoi"
      },
      "execution_count": null,
      "outputs": []
    },
    {
      "cell_type": "code",
      "source": [
        "instrument_token = [6401, 40193, 60417, 81153, 98049, 119553, 177665, 225537, 315393, 341249, 345089, 348929, 408065, 424961, 492033, 502785, 519937,\n",
        " 633601, 738561, 779521, 857857, 878593, 884737, 895745, 897537, 969473, 1270529, 1304833, 1346049, 1510401, 1850625, 2815745, 2939649,\n",
        " 2952193, 2953217, 2977281, 3001089, 3465729, 4267265, 4268801, 4598529, 4644609, 5215745, 5582849, 3861249]"
      ],
      "metadata": {
        "id": "Yi3SICPGECOP"
      },
      "execution_count": null,
      "outputs": []
    },
    {
      "cell_type": "markdown",
      "metadata": {
        "id": "4z5arO_lqJY0"
      },
      "source": [
        "# **placing order**"
      ]
    },
    {
      "cell_type": "code",
      "source": [
        "capital = 10000 #position size\n",
        "quantity = int(capital/ohlc[\"close\"][-1])"
      ],
      "metadata": {
        "id": "IojYqrgRGNh8"
      },
      "execution_count": null,
      "outputs": []
    },
    {
      "cell_type": "code",
      "execution_count": null,
      "metadata": {
        "id": "l7xpzX_tqNen"
      },
      "outputs": [],
      "source": [
        "def placeMarketOrder(symbol, buy_sell, quantity):\n",
        "  # place intraday market order on NSE\n",
        "  if buy_sell == \"buy\":\n",
        "    t_type = kite.TRANSACTION_TYPE_BUY\n",
        "  elif buy_sell == \"sell\":\n",
        "    t_type = kite.TRANSACTION_TYPE_SELL\n",
        "  kite.place_order(tradingsymbol=symbol,\n",
        "                   exchange=kite.EXCHANGE_NSE,\n",
        "                   transaction_type=t_type,\n",
        "                   quantity=5*quantity, # 5x leverage\n",
        "                   order_type=kite.ORDER_TYPE_MARKET,\n",
        "                   product=kite.PRODUCT_MIS,\n",
        "                   variety=kite.VARIETY_REGULAR)"
      ]
    },
    {
      "cell_type": "code",
      "source": [
        "for i in nifty50_symbols:\n",
        "  df = fetchOHLC(i,\"5minute\", 1)\n",
        "  #print(i, df)\n",
        "  close_11am = df.iloc[20, : ]['close']\n",
        "  intraday_high = df['high'].max()\n",
        "  intraday_low = df['low'].min()\n",
        "  instrument = instrumentLookup(instrument_df, i)\n",
        "  if instrument != -1: # Check if instrument token was found\n",
        "      yesterday_close = kite.quote([instrument])[str(instrument)]['ohlc']['close'] # Use instrument token as key\n",
        "      #print(close_11am)\n",
        "      #print(f\"{i}: {yesterday_close}\") # Print the symbol and its close price\n",
        "  else:\n",
        "      print(f\"Instrument token not found for {i}\")\n",
        "  pivot_price = (intraday_high+intraday_low+yesterday_close)/3\n",
        "  #print(pivot_price, close_11am)\n",
        "  if close_11am > pivot_price:\n",
        "    print(f\"buy {i}\")\n",
        "    placeMarketOrder(i, \"buy\", 100)\n",
        "  elif close_11am < pivot_price:\n",
        "    print(f\"sell {i}\")\n",
        "    placeMarketOrder(i, \"sell\", 100)"
      ],
      "metadata": {
        "colab": {
          "base_uri": "https://localhost:8080/",
          "height": 339
        },
        "collapsed": true,
        "id": "pvsphnI7NH9C",
        "outputId": "2513fbf5-b250-4b3c-e89c-6acf95bc3282"
      },
      "execution_count": null,
      "outputs": [
        {
          "output_type": "stream",
          "name": "stdout",
          "text": [
            "sell RELIANCE\n"
          ]
        },
        {
          "output_type": "error",
          "ename": "InputException",
          "evalue": "Your order could not be converted to a After Market Order (AMO).",
          "traceback": [
            "\u001b[0;31m---------------------------------------------------------------------------\u001b[0m",
            "\u001b[0;31mInputException\u001b[0m                            Traceback (most recent call last)",
            "\u001b[0;32m/tmp/ipython-input-1738270324.py\u001b[0m in \u001b[0;36m<cell line: 0>\u001b[0;34m()\u001b[0m\n\u001b[1;32m     19\u001b[0m   \u001b[0;32melif\u001b[0m \u001b[0mclose_11am\u001b[0m \u001b[0;34m<\u001b[0m \u001b[0mpivot_price\u001b[0m\u001b[0;34m:\u001b[0m\u001b[0;34m\u001b[0m\u001b[0;34m\u001b[0m\u001b[0m\n\u001b[1;32m     20\u001b[0m     \u001b[0mprint\u001b[0m\u001b[0;34m(\u001b[0m\u001b[0;34mf\"sell {i}\"\u001b[0m\u001b[0;34m)\u001b[0m\u001b[0;34m\u001b[0m\u001b[0;34m\u001b[0m\u001b[0m\n\u001b[0;32m---> 21\u001b[0;31m     \u001b[0mplaceMarketOrder\u001b[0m\u001b[0;34m(\u001b[0m\u001b[0mi\u001b[0m\u001b[0;34m,\u001b[0m \u001b[0;34m\"sell\"\u001b[0m\u001b[0;34m,\u001b[0m \u001b[0;36m100\u001b[0m\u001b[0;34m)\u001b[0m\u001b[0;34m\u001b[0m\u001b[0;34m\u001b[0m\u001b[0m\n\u001b[0m",
            "\u001b[0;32m/tmp/ipython-input-385122519.py\u001b[0m in \u001b[0;36mplaceMarketOrder\u001b[0;34m(symbol, buy_sell, quantity)\u001b[0m\n\u001b[1;32m      5\u001b[0m   \u001b[0;32melif\u001b[0m \u001b[0mbuy_sell\u001b[0m \u001b[0;34m==\u001b[0m \u001b[0;34m\"sell\"\u001b[0m\u001b[0;34m:\u001b[0m\u001b[0;34m\u001b[0m\u001b[0;34m\u001b[0m\u001b[0m\n\u001b[1;32m      6\u001b[0m     \u001b[0mt_type\u001b[0m \u001b[0;34m=\u001b[0m \u001b[0mkite\u001b[0m\u001b[0;34m.\u001b[0m\u001b[0mTRANSACTION_TYPE_SELL\u001b[0m\u001b[0;34m\u001b[0m\u001b[0;34m\u001b[0m\u001b[0m\n\u001b[0;32m----> 7\u001b[0;31m   kite.place_order(tradingsymbol=symbol,\n\u001b[0m\u001b[1;32m      8\u001b[0m                    \u001b[0mexchange\u001b[0m\u001b[0;34m=\u001b[0m\u001b[0mkite\u001b[0m\u001b[0;34m.\u001b[0m\u001b[0mEXCHANGE_NSE\u001b[0m\u001b[0;34m,\u001b[0m\u001b[0;34m\u001b[0m\u001b[0;34m\u001b[0m\u001b[0m\n\u001b[1;32m      9\u001b[0m                    \u001b[0mtransaction_type\u001b[0m\u001b[0;34m=\u001b[0m\u001b[0mt_type\u001b[0m\u001b[0;34m,\u001b[0m\u001b[0;34m\u001b[0m\u001b[0;34m\u001b[0m\u001b[0m\n",
            "\u001b[0;32m/usr/local/lib/python3.11/dist-packages/kiteconnect/connect.py\u001b[0m in \u001b[0;36mplace_order\u001b[0;34m(self, variety, exchange, tradingsymbol, transaction_type, quantity, product, order_type, price, validity, validity_ttl, disclosed_quantity, trigger_price, iceberg_legs, iceberg_quantity, auction_number, tag)\u001b[0m\n\u001b[1;32m    359\u001b[0m                 \u001b[0;32mdel\u001b[0m \u001b[0;34m(\u001b[0m\u001b[0mparams\u001b[0m\u001b[0;34m[\u001b[0m\u001b[0mk\u001b[0m\u001b[0;34m]\u001b[0m\u001b[0;34m)\u001b[0m\u001b[0;34m\u001b[0m\u001b[0;34m\u001b[0m\u001b[0m\n\u001b[1;32m    360\u001b[0m \u001b[0;34m\u001b[0m\u001b[0m\n\u001b[0;32m--> 361\u001b[0;31m         return self._post(\"order.place\",\n\u001b[0m\u001b[1;32m    362\u001b[0m                           \u001b[0murl_args\u001b[0m\u001b[0;34m=\u001b[0m\u001b[0;34m{\u001b[0m\u001b[0;34m\"variety\"\u001b[0m\u001b[0;34m:\u001b[0m \u001b[0mvariety\u001b[0m\u001b[0;34m}\u001b[0m\u001b[0;34m,\u001b[0m\u001b[0;34m\u001b[0m\u001b[0;34m\u001b[0m\u001b[0m\n\u001b[1;32m    363\u001b[0m                           params=params)[\"order_id\"]\n",
            "\u001b[0;32m/usr/local/lib/python3.11/dist-packages/kiteconnect/connect.py\u001b[0m in \u001b[0;36m_post\u001b[0;34m(self, route, url_args, params, is_json, query_params)\u001b[0m\n\u001b[1;32m    863\u001b[0m     \u001b[0;32mdef\u001b[0m \u001b[0m_post\u001b[0m\u001b[0;34m(\u001b[0m\u001b[0mself\u001b[0m\u001b[0;34m,\u001b[0m \u001b[0mroute\u001b[0m\u001b[0;34m,\u001b[0m \u001b[0murl_args\u001b[0m\u001b[0;34m=\u001b[0m\u001b[0;32mNone\u001b[0m\u001b[0;34m,\u001b[0m \u001b[0mparams\u001b[0m\u001b[0;34m=\u001b[0m\u001b[0;32mNone\u001b[0m\u001b[0;34m,\u001b[0m \u001b[0mis_json\u001b[0m\u001b[0;34m=\u001b[0m\u001b[0;32mFalse\u001b[0m\u001b[0;34m,\u001b[0m \u001b[0mquery_params\u001b[0m\u001b[0;34m=\u001b[0m\u001b[0;32mNone\u001b[0m\u001b[0;34m)\u001b[0m\u001b[0;34m:\u001b[0m\u001b[0;34m\u001b[0m\u001b[0;34m\u001b[0m\u001b[0m\n\u001b[1;32m    864\u001b[0m         \u001b[0;34m\"\"\"Alias for sending a POST request.\"\"\"\u001b[0m\u001b[0;34m\u001b[0m\u001b[0;34m\u001b[0m\u001b[0m\n\u001b[0;32m--> 865\u001b[0;31m         \u001b[0;32mreturn\u001b[0m \u001b[0mself\u001b[0m\u001b[0;34m.\u001b[0m\u001b[0m_request\u001b[0m\u001b[0;34m(\u001b[0m\u001b[0mroute\u001b[0m\u001b[0;34m,\u001b[0m \u001b[0;34m\"POST\"\u001b[0m\u001b[0;34m,\u001b[0m \u001b[0murl_args\u001b[0m\u001b[0;34m=\u001b[0m\u001b[0murl_args\u001b[0m\u001b[0;34m,\u001b[0m \u001b[0mparams\u001b[0m\u001b[0;34m=\u001b[0m\u001b[0mparams\u001b[0m\u001b[0;34m,\u001b[0m \u001b[0mis_json\u001b[0m\u001b[0;34m=\u001b[0m\u001b[0mis_json\u001b[0m\u001b[0;34m,\u001b[0m \u001b[0mquery_params\u001b[0m\u001b[0;34m=\u001b[0m\u001b[0mquery_params\u001b[0m\u001b[0;34m)\u001b[0m\u001b[0;34m\u001b[0m\u001b[0;34m\u001b[0m\u001b[0m\n\u001b[0m\u001b[1;32m    866\u001b[0m \u001b[0;34m\u001b[0m\u001b[0m\n\u001b[1;32m    867\u001b[0m     \u001b[0;32mdef\u001b[0m \u001b[0m_put\u001b[0m\u001b[0;34m(\u001b[0m\u001b[0mself\u001b[0m\u001b[0;34m,\u001b[0m \u001b[0mroute\u001b[0m\u001b[0;34m,\u001b[0m \u001b[0murl_args\u001b[0m\u001b[0;34m=\u001b[0m\u001b[0;32mNone\u001b[0m\u001b[0;34m,\u001b[0m \u001b[0mparams\u001b[0m\u001b[0;34m=\u001b[0m\u001b[0;32mNone\u001b[0m\u001b[0;34m,\u001b[0m \u001b[0mis_json\u001b[0m\u001b[0;34m=\u001b[0m\u001b[0;32mFalse\u001b[0m\u001b[0;34m,\u001b[0m \u001b[0mquery_params\u001b[0m\u001b[0;34m=\u001b[0m\u001b[0;32mNone\u001b[0m\u001b[0;34m)\u001b[0m\u001b[0;34m:\u001b[0m\u001b[0;34m\u001b[0m\u001b[0;34m\u001b[0m\u001b[0m\n",
            "\u001b[0;32m/usr/local/lib/python3.11/dist-packages/kiteconnect/connect.py\u001b[0m in \u001b[0;36m_request\u001b[0;34m(self, route, method, url_args, params, is_json, query_params)\u001b[0m\n\u001b[1;32m    935\u001b[0m                 \u001b[0;31m# native Kite errors\u001b[0m\u001b[0;34m\u001b[0m\u001b[0;34m\u001b[0m\u001b[0m\n\u001b[1;32m    936\u001b[0m                 \u001b[0mexp\u001b[0m \u001b[0;34m=\u001b[0m \u001b[0mgetattr\u001b[0m\u001b[0;34m(\u001b[0m\u001b[0mex\u001b[0m\u001b[0;34m,\u001b[0m \u001b[0mdata\u001b[0m\u001b[0;34m.\u001b[0m\u001b[0mget\u001b[0m\u001b[0;34m(\u001b[0m\u001b[0;34m\"error_type\"\u001b[0m\u001b[0;34m)\u001b[0m\u001b[0;34m,\u001b[0m \u001b[0mex\u001b[0m\u001b[0;34m.\u001b[0m\u001b[0mGeneralException\u001b[0m\u001b[0;34m)\u001b[0m\u001b[0;34m\u001b[0m\u001b[0;34m\u001b[0m\u001b[0m\n\u001b[0;32m--> 937\u001b[0;31m                 \u001b[0;32mraise\u001b[0m \u001b[0mexp\u001b[0m\u001b[0;34m(\u001b[0m\u001b[0mdata\u001b[0m\u001b[0;34m[\u001b[0m\u001b[0;34m\"message\"\u001b[0m\u001b[0;34m]\u001b[0m\u001b[0;34m,\u001b[0m \u001b[0mcode\u001b[0m\u001b[0;34m=\u001b[0m\u001b[0mr\u001b[0m\u001b[0;34m.\u001b[0m\u001b[0mstatus_code\u001b[0m\u001b[0;34m)\u001b[0m\u001b[0;34m\u001b[0m\u001b[0;34m\u001b[0m\u001b[0m\n\u001b[0m\u001b[1;32m    938\u001b[0m \u001b[0;34m\u001b[0m\u001b[0m\n\u001b[1;32m    939\u001b[0m             \u001b[0;32mreturn\u001b[0m \u001b[0mdata\u001b[0m\u001b[0;34m[\u001b[0m\u001b[0;34m\"data\"\u001b[0m\u001b[0;34m]\u001b[0m\u001b[0;34m\u001b[0m\u001b[0;34m\u001b[0m\u001b[0m\n",
            "\u001b[0;31mInputException\u001b[0m: Your order could not be converted to a After Market Order (AMO)."
          ]
        }
      ]
    },
    {
      "cell_type": "code",
      "source": [],
      "metadata": {
        "id": "FVwWl_mooykw"
      },
      "execution_count": null,
      "outputs": []
    }
  ],
  "metadata": {
    "colab": {
      "provenance": [],
      "authorship_tag": "ABX9TyNm7C0y2j+2W7Qlhdhe9nVb",
      "include_colab_link": true
    },
    "kernelspec": {
      "display_name": "Python 3",
      "name": "python3"
    },
    "language_info": {
      "name": "python"
    }
  },
  "nbformat": 4,
  "nbformat_minor": 0
}