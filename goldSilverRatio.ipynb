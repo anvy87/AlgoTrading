{
  "nbformat": 4,
  "nbformat_minor": 0,
  "metadata": {
    "colab": {
      "provenance": [],
      "authorship_tag": "ABX9TyMQy0K+dciwch9gQml1IhyN",
      "include_colab_link": true
    },
    "kernelspec": {
      "name": "python3",
      "display_name": "Python 3"
    },
    "language_info": {
      "name": "python"
    }
  },
  "cells": [
    {
      "cell_type": "markdown",
      "metadata": {
        "id": "view-in-github",
        "colab_type": "text"
      },
      "source": [
        "<a href=\"https://colab.research.google.com/github/anvy87/AlgoTrading/blob/master/goldSilverRatio.ipynb\" target=\"_parent\"><img src=\"https://colab.research.google.com/assets/colab-badge.svg\" alt=\"Open In Colab\"/></a>"
      ]
    },
    {
      "cell_type": "code",
      "execution_count": null,
      "metadata": {
        "colab": {
          "base_uri": "https://localhost:8080/"
        },
        "collapsed": true,
        "id": "U25yrAIBWRlF",
        "outputId": "fbef6678-efd9-49d2-903f-e175c2b7447d"
      },
      "outputs": [
        {
          "output_type": "stream",
          "name": "stdout",
          "text": [
            "Collecting kiteconnect\n",
            "  Downloading kiteconnect-5.0.1-py3-none-any.whl.metadata (8.0 kB)\n",
            "Collecting service-identity>=18.1.0 (from kiteconnect)\n",
            "  Downloading service_identity-24.2.0-py3-none-any.whl.metadata (5.1 kB)\n",
            "Requirement already satisfied: requests>=2.18.4 in /usr/local/lib/python3.12/dist-packages (from kiteconnect) (2.32.4)\n",
            "Requirement already satisfied: six>=1.11.0 in /usr/local/lib/python3.12/dist-packages (from kiteconnect) (1.17.0)\n",
            "Requirement already satisfied: pyOpenSSL>=17.5.0 in /usr/local/lib/python3.12/dist-packages (from kiteconnect) (24.2.1)\n",
            "Requirement already satisfied: python-dateutil>=2.6.1 in /usr/local/lib/python3.12/dist-packages (from kiteconnect) (2.9.0.post0)\n",
            "Collecting autobahn==19.11.2 (from autobahn[twisted]==19.11.2->kiteconnect)\n",
            "  Downloading autobahn-19.11.2-py2.py3-none-any.whl.metadata (16 kB)\n",
            "Collecting txaio>=18.8.1 (from autobahn==19.11.2->autobahn[twisted]==19.11.2->kiteconnect)\n",
            "  Downloading txaio-25.6.1-py2.py3-none-any.whl.metadata (7.1 kB)\n",
            "Requirement already satisfied: cryptography>=2.7 in /usr/local/lib/python3.12/dist-packages (from autobahn==19.11.2->autobahn[twisted]==19.11.2->kiteconnect) (43.0.3)\n",
            "Collecting zope.interface>=3.6.0 (from autobahn[twisted]==19.11.2->kiteconnect)\n",
            "  Downloading zope.interface-7.2-cp312-cp312-manylinux_2_5_x86_64.manylinux1_x86_64.manylinux_2_17_x86_64.manylinux2014_x86_64.whl.metadata (44 kB)\n",
            "\u001b[2K     \u001b[90m━━━━━━━━━━━━━━━━━━━━━━━━━━━━━━━━━━━━━━━━\u001b[0m \u001b[32m44.4/44.4 kB\u001b[0m \u001b[31m3.2 MB/s\u001b[0m eta \u001b[36m0:00:00\u001b[0m\n",
            "\u001b[?25hCollecting Twisted>=12.1.0 (from autobahn[twisted]==19.11.2->kiteconnect)\n",
            "  Downloading twisted-25.5.0-py3-none-any.whl.metadata (22 kB)\n",
            "Requirement already satisfied: charset_normalizer<4,>=2 in /usr/local/lib/python3.12/dist-packages (from requests>=2.18.4->kiteconnect) (3.4.3)\n",
            "Requirement already satisfied: idna<4,>=2.5 in /usr/local/lib/python3.12/dist-packages (from requests>=2.18.4->kiteconnect) (3.10)\n",
            "Requirement already satisfied: urllib3<3,>=1.21.1 in /usr/local/lib/python3.12/dist-packages (from requests>=2.18.4->kiteconnect) (2.5.0)\n",
            "Requirement already satisfied: certifi>=2017.4.17 in /usr/local/lib/python3.12/dist-packages (from requests>=2.18.4->kiteconnect) (2025.8.3)\n",
            "Requirement already satisfied: attrs>=19.1.0 in /usr/local/lib/python3.12/dist-packages (from service-identity>=18.1.0->kiteconnect) (25.3.0)\n",
            "Requirement already satisfied: pyasn1 in /usr/local/lib/python3.12/dist-packages (from service-identity>=18.1.0->kiteconnect) (0.6.1)\n",
            "Requirement already satisfied: pyasn1-modules in /usr/local/lib/python3.12/dist-packages (from service-identity>=18.1.0->kiteconnect) (0.4.2)\n",
            "Requirement already satisfied: cffi>=1.12 in /usr/local/lib/python3.12/dist-packages (from cryptography>=2.7->autobahn==19.11.2->autobahn[twisted]==19.11.2->kiteconnect) (1.17.1)\n",
            "Collecting automat>=24.8.0 (from Twisted>=12.1.0->autobahn[twisted]==19.11.2->kiteconnect)\n",
            "  Downloading automat-25.4.16-py3-none-any.whl.metadata (8.4 kB)\n",
            "Collecting constantly>=15.1 (from Twisted>=12.1.0->autobahn[twisted]==19.11.2->kiteconnect)\n",
            "  Downloading constantly-23.10.4-py3-none-any.whl.metadata (1.8 kB)\n",
            "Collecting hyperlink>=17.1.1 (from Twisted>=12.1.0->autobahn[twisted]==19.11.2->kiteconnect)\n",
            "  Downloading hyperlink-21.0.0-py2.py3-none-any.whl.metadata (1.5 kB)\n",
            "Collecting incremental>=24.7.0 (from Twisted>=12.1.0->autobahn[twisted]==19.11.2->kiteconnect)\n",
            "  Downloading incremental-24.7.2-py3-none-any.whl.metadata (8.1 kB)\n",
            "Requirement already satisfied: typing-extensions>=4.2.0 in /usr/local/lib/python3.12/dist-packages (from Twisted>=12.1.0->autobahn[twisted]==19.11.2->kiteconnect) (4.15.0)\n",
            "Requirement already satisfied: setuptools in /usr/local/lib/python3.12/dist-packages (from zope.interface>=3.6.0->autobahn[twisted]==19.11.2->kiteconnect) (75.2.0)\n",
            "Requirement already satisfied: pycparser in /usr/local/lib/python3.12/dist-packages (from cffi>=1.12->cryptography>=2.7->autobahn==19.11.2->autobahn[twisted]==19.11.2->kiteconnect) (2.22)\n",
            "Downloading kiteconnect-5.0.1-py3-none-any.whl (24 kB)\n",
            "Downloading autobahn-19.11.2-py2.py3-none-any.whl (771 kB)\n",
            "\u001b[2K   \u001b[90m━━━━━━━━━━━━━━━━━━━━━━━━━━━━━━━━━━━━━━━━\u001b[0m \u001b[32m771.5/771.5 kB\u001b[0m \u001b[31m24.8 MB/s\u001b[0m eta \u001b[36m0:00:00\u001b[0m\n",
            "\u001b[?25hDownloading service_identity-24.2.0-py3-none-any.whl (11 kB)\n",
            "Downloading twisted-25.5.0-py3-none-any.whl (3.2 MB)\n",
            "\u001b[2K   \u001b[90m━━━━━━━━━━━━━━━━━━━━━━━━━━━━━━━━━━━━━━━━\u001b[0m \u001b[32m3.2/3.2 MB\u001b[0m \u001b[31m23.9 MB/s\u001b[0m eta \u001b[36m0:00:00\u001b[0m\n",
            "\u001b[?25hDownloading txaio-25.6.1-py2.py3-none-any.whl (31 kB)\n",
            "Downloading zope.interface-7.2-cp312-cp312-manylinux_2_5_x86_64.manylinux1_x86_64.manylinux_2_17_x86_64.manylinux2014_x86_64.whl (264 kB)\n",
            "\u001b[2K   \u001b[90m━━━━━━━━━━━━━━━━━━━━━━━━━━━━━━━━━━━━━━━━\u001b[0m \u001b[32m264.7/264.7 kB\u001b[0m \u001b[31m20.7 MB/s\u001b[0m eta \u001b[36m0:00:00\u001b[0m\n",
            "\u001b[?25hDownloading automat-25.4.16-py3-none-any.whl (42 kB)\n",
            "\u001b[2K   \u001b[90m━━━━━━━━━━━━━━━━━━━━━━━━━━━━━━━━━━━━━━━━\u001b[0m \u001b[32m42.8/42.8 kB\u001b[0m \u001b[31m2.9 MB/s\u001b[0m eta \u001b[36m0:00:00\u001b[0m\n",
            "\u001b[?25hDownloading constantly-23.10.4-py3-none-any.whl (13 kB)\n",
            "Downloading hyperlink-21.0.0-py2.py3-none-any.whl (74 kB)\n",
            "\u001b[2K   \u001b[90m━━━━━━━━━━━━━━━━━━━━━━━━━━━━━━━━━━━━━━━━\u001b[0m \u001b[32m74.6/74.6 kB\u001b[0m \u001b[31m5.4 MB/s\u001b[0m eta \u001b[36m0:00:00\u001b[0m\n",
            "\u001b[?25hDownloading incremental-24.7.2-py3-none-any.whl (20 kB)\n",
            "Installing collected packages: zope.interface, txaio, incremental, hyperlink, constantly, automat, Twisted, service-identity, autobahn, kiteconnect\n",
            "Successfully installed Twisted-25.5.0 autobahn-19.11.2 automat-25.4.16 constantly-23.10.4 hyperlink-21.0.0 incremental-24.7.2 kiteconnect-5.0.1 service-identity-24.2.0 txaio-25.6.1 zope.interface-7.2\n"
          ]
        }
      ],
      "source": [
        "pip install kiteconnect"
      ]
    },
    {
      "cell_type": "code",
      "source": [
        "from kiteconnect import KiteConnect\n",
        "import pandas as pd\n",
        "import numpy as np\n",
        "import logging\n",
        "import os\n",
        "import time\n",
        "import datetime as dt\n",
        "api_key = \"1ll4p8ziqlk8hh7g\"\n",
        "api_secret = \"x59r5u1vd25annfpgts22wv8ykfueirl\"\n",
        "kite = KiteConnect(api_key=api_key)\n",
        "print(kite.login_url()) #use this url to manually login and authorize yourself"
      ],
      "metadata": {
        "colab": {
          "base_uri": "https://localhost:8080/"
        },
        "id": "W1b55KJNWZzo",
        "outputId": "59b239f3-7c32-4777-e3d9-58732d791be4"
      },
      "execution_count": null,
      "outputs": [
        {
          "output_type": "stream",
          "name": "stdout",
          "text": [
            "https://kite.zerodha.com/connect/login?api_key=1ll4p8ziqlk8hh7g&v=3\n"
          ]
        }
      ]
    },
    {
      "cell_type": "code",
      "source": [
        "#generate trading session\n",
        "request_token = \"SjadY458xC3aRziUBIEgM6Imakf0XKf3\" #Extract request token from the redirect url obtained after you authorize yourself by loggin in\n",
        "data = kite.generate_session(request_token, api_secret=api_secret)\n",
        "#create kite trading object\n",
        "kite.set_access_token(data[\"access_token\"])\n",
        "\n",
        "#get dump of all NSE instruments\n",
        "instrument_dump = kite.instruments(\"NSE\")\n",
        "instrument_df = pd.DataFrame(instrument_dump)\n",
        "instrument_df.to_csv(\"NSE_Instruments.csv\",index=False)\n",
        "\n",
        "# get dump of all MCX instruments\n",
        "instrument_dump_mcx = kite.instruments(\"MCX\")\n",
        "instrument_df_mcx = pd.DataFrame(instrument_dump_mcx)\n",
        "instrument_df_mcx.to_csv(\"MCX_Instruments.csv\",index=False)\n",
        "\n",
        "\n",
        "def instrumentLookup(instrument_df_nse, instrument_df_mcx, symbol):\n",
        "    \"\"\"Looks up instrument token for a given script from instrument dump\"\"\"\n",
        "    try:\n",
        "        # Try to find the instrument in NSE\n",
        "        token_nse = instrument_df_nse[instrument_df_nse.tradingsymbol == symbol].instrument_token.values\n",
        "        if token_nse.size > 0:\n",
        "            return token_nse[0]\n",
        "        # If not found in NSE, try to find in MCX\n",
        "        token_mcx = instrument_df_mcx[instrument_df_mcx.tradingsymbol == symbol].instrument_token.values\n",
        "        if token_mcx.size > 0:\n",
        "            return token_mcx[0]\n",
        "        return -1 # Return -1 if not found in either\n",
        "    except Exception as e:\n",
        "        print(f\"Error looking up instrument {symbol}: {e}\")\n",
        "        return -1\n",
        "\n",
        "def fetchOHLC(ticker,interval,duration):\n",
        "  \"\"\"extracts historcial data and outputs in the form of dataframe\"\"\"\n",
        "  instrument = instrumentLookup(instrument_df, instrument_df_mcx, ticker)\n",
        "  if instrument != -1:\n",
        "    data = pd.DataFrame(kite.historical_data(instrument,dt.date.today()-dt.timedelta(duration),dt.date.today(),interval))\n",
        "    # data1 = pd.DataFrame(kite.historical_data(instrument,dt.date.today(),dt.date.today(),interval))\n",
        "    # print(data1.head())\n",
        "    data.set_index(\"date\",inplace=True)\n",
        "    return data\n",
        "  else:\n",
        "    print(f\"Instrument {ticker} not found.\")\n",
        "    return pd.DataFrame() # Return empty DataFrame if instrument not found"
      ],
      "metadata": {
        "id": "oa0GrodUWv73"
      },
      "execution_count": null,
      "outputs": []
    },
    {
      "cell_type": "code",
      "source": [
        "import http.client\n",
        "import json\n",
        "\n",
        "# Adjust these number to suit your needs\n",
        "buy_silver_ratio_min = 66\n",
        "buy_gold_ratio_max = 40\n",
        "\n",
        "payload = ''\n",
        "headers = {\n",
        "  'x-access-token': 'goldapi-dwpk2uki92tuzg-io',\n",
        "  'Content-Type': 'application/json'\n",
        "}\n",
        "conn = http.client.HTTPSConnection(\"www.goldapi.io\")\n",
        "\n",
        "# Get current silver prpayloadice.\n",
        "conn.request(\"GET\", \"/api/XAG/USD\", payload, headers)\n",
        "res = conn.getresponse()\n",
        "data = json.loads(res.read().decode(\"utf-8\"))\n",
        "silver_price = data['price']\n",
        "\n",
        "# Get current gold price.\n",
        "conn.request(\"GET\", \"/api/XAU/USD\", payload, headers)\n",
        "res = conn.getresponse()\n",
        "data = json.loads(res.read().decode(\"utf-8\"))\n",
        "gold_price = data['price']\n",
        "\n",
        "gold_silver_ratio = round(gold_price/silver_price, 2)\n",
        "print(f\"Today's gold to silver ratio is: {gold_silver_ratio}\")\n",
        "\n",
        "if gold_silver_ratio >= buy_silver_ratio_min:\n",
        "    print(\"Buy Silver!\")\n",
        "elif buy_gold_ratio_max <= gold_silver_ratio > buy_silver_ratio_min:\n",
        "    print(\"Hang tight.  Don't buy either.\")\n",
        "elif gold_silver_ratio < buy_gold_ratio_max:\n",
        "    print(\"Buy Gold!\")"
      ],
      "metadata": {
        "colab": {
          "base_uri": "https://localhost:8080/"
        },
        "id": "MSjDtBqz8VAP",
        "outputId": "5b886f76-5315-4739-c4fb-3bf8f3032f26"
      },
      "execution_count": null,
      "outputs": [
        {
          "output_type": "stream",
          "name": "stdout",
          "text": [
            "Today's gold to silver ratio is: 86.34\n",
            "Buy Silver!\n"
          ]
        }
      ]
    },
    {
      "cell_type": "code",
      "source": [],
      "metadata": {
        "id": "VqhjrbT0YwwK"
      },
      "execution_count": null,
      "outputs": []
    }
  ]
}