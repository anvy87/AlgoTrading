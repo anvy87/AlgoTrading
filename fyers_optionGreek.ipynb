{
  "nbformat": 4,
  "nbformat_minor": 0,
  "metadata": {
    "colab": {
      "provenance": [],
      "authorship_tag": "ABX9TyNBPJlywXdCGuCyBpgmqRNt",
      "include_colab_link": true
    },
    "kernelspec": {
      "name": "python3",
      "display_name": "Python 3"
    },
    "language_info": {
      "name": "python"
    }
  },
  "cells": [
    {
      "cell_type": "markdown",
      "metadata": {
        "id": "view-in-github",
        "colab_type": "text"
      },
      "source": [
        "<a href=\"https://colab.research.google.com/github/anvy87/AlgoTrading/blob/master/fyers_optionGreek.ipynb\" target=\"_parent\"><img src=\"https://colab.research.google.com/assets/colab-badge.svg\" alt=\"Open In Colab\"/></a>"
      ]
    },
    {
      "cell_type": "code",
      "source": [
        "pip install fyers-apiv3"
      ],
      "metadata": {
        "colab": {
          "base_uri": "https://localhost:8080/"
        },
        "collapsed": true,
        "id": "5EoOoXQdu21M",
        "outputId": "3f7aaf3d-8649-440f-90b8-6993f9407e79"
      },
      "execution_count": 1,
      "outputs": [
        {
          "output_type": "stream",
          "name": "stdout",
          "text": [
            "Requirement already satisfied: fyers-apiv3 in /usr/local/lib/python3.11/dist-packages (3.1.7)\n",
            "Requirement already satisfied: requests==2.31.0 in /usr/local/lib/python3.11/dist-packages (from fyers-apiv3) (2.31.0)\n",
            "Requirement already satisfied: asyncio==3.4.3 in /usr/local/lib/python3.11/dist-packages (from fyers-apiv3) (3.4.3)\n",
            "Requirement already satisfied: aiohttp==3.9.3 in /usr/local/lib/python3.11/dist-packages (from fyers-apiv3) (3.9.3)\n",
            "Requirement already satisfied: aws_lambda_powertools==1.25.5 in /usr/local/lib/python3.11/dist-packages (from fyers-apiv3) (1.25.5)\n",
            "Requirement already satisfied: websocket-client==1.6.1 in /usr/local/lib/python3.11/dist-packages (from fyers-apiv3) (1.6.1)\n",
            "Requirement already satisfied: protobuf==5.29.3 in /usr/local/lib/python3.11/dist-packages (from fyers-apiv3) (5.29.3)\n",
            "Requirement already satisfied: aiosignal>=1.1.2 in /usr/local/lib/python3.11/dist-packages (from aiohttp==3.9.3->fyers-apiv3) (1.4.0)\n",
            "Requirement already satisfied: attrs>=17.3.0 in /usr/local/lib/python3.11/dist-packages (from aiohttp==3.9.3->fyers-apiv3) (25.3.0)\n",
            "Requirement already satisfied: frozenlist>=1.1.1 in /usr/local/lib/python3.11/dist-packages (from aiohttp==3.9.3->fyers-apiv3) (1.7.0)\n",
            "Requirement already satisfied: multidict<7.0,>=4.5 in /usr/local/lib/python3.11/dist-packages (from aiohttp==3.9.3->fyers-apiv3) (6.6.4)\n",
            "Requirement already satisfied: yarl<2.0,>=1.0 in /usr/local/lib/python3.11/dist-packages (from aiohttp==3.9.3->fyers-apiv3) (1.20.1)\n",
            "Requirement already satisfied: aws-xray-sdk<3.0.0,>=2.8.0 in /usr/local/lib/python3.11/dist-packages (from aws_lambda_powertools==1.25.5->fyers-apiv3) (2.14.0)\n",
            "Requirement already satisfied: boto3<2.0,>=1.18 in /usr/local/lib/python3.11/dist-packages (from aws_lambda_powertools==1.25.5->fyers-apiv3) (1.40.11)\n",
            "Requirement already satisfied: fastjsonschema<3.0.0,>=2.14.5 in /usr/local/lib/python3.11/dist-packages (from aws_lambda_powertools==1.25.5->fyers-apiv3) (2.21.1)\n",
            "Requirement already satisfied: jmespath<0.11.0,>=0.10.0 in /usr/local/lib/python3.11/dist-packages (from aws_lambda_powertools==1.25.5->fyers-apiv3) (0.10.0)\n",
            "Requirement already satisfied: charset-normalizer<4,>=2 in /usr/local/lib/python3.11/dist-packages (from requests==2.31.0->fyers-apiv3) (3.4.3)\n",
            "Requirement already satisfied: idna<4,>=2.5 in /usr/local/lib/python3.11/dist-packages (from requests==2.31.0->fyers-apiv3) (3.10)\n",
            "Requirement already satisfied: urllib3<3,>=1.21.1 in /usr/local/lib/python3.11/dist-packages (from requests==2.31.0->fyers-apiv3) (2.5.0)\n",
            "Requirement already satisfied: certifi>=2017.4.17 in /usr/local/lib/python3.11/dist-packages (from requests==2.31.0->fyers-apiv3) (2025.8.3)\n",
            "Requirement already satisfied: typing-extensions>=4.2 in /usr/local/lib/python3.11/dist-packages (from aiosignal>=1.1.2->aiohttp==3.9.3->fyers-apiv3) (4.14.1)\n",
            "Requirement already satisfied: wrapt in /usr/local/lib/python3.11/dist-packages (from aws-xray-sdk<3.0.0,>=2.8.0->aws_lambda_powertools==1.25.5->fyers-apiv3) (1.17.3)\n",
            "Requirement already satisfied: botocore>=1.11.3 in /usr/local/lib/python3.11/dist-packages (from aws-xray-sdk<3.0.0,>=2.8.0->aws_lambda_powertools==1.25.5->fyers-apiv3) (1.40.11)\n",
            "Requirement already satisfied: s3transfer<0.14.0,>=0.13.0 in /usr/local/lib/python3.11/dist-packages (from boto3<2.0,>=1.18->aws_lambda_powertools==1.25.5->fyers-apiv3) (0.13.1)\n",
            "Requirement already satisfied: propcache>=0.2.1 in /usr/local/lib/python3.11/dist-packages (from yarl<2.0,>=1.0->aiohttp==3.9.3->fyers-apiv3) (0.3.2)\n",
            "Requirement already satisfied: python-dateutil<3.0.0,>=2.1 in /usr/local/lib/python3.11/dist-packages (from botocore>=1.11.3->aws-xray-sdk<3.0.0,>=2.8.0->aws_lambda_powertools==1.25.5->fyers-apiv3) (2.9.0.post0)\n",
            "Requirement already satisfied: six>=1.5 in /usr/local/lib/python3.11/dist-packages (from python-dateutil<3.0.0,>=2.1->botocore>=1.11.3->aws-xray-sdk<3.0.0,>=2.8.0->aws_lambda_powertools==1.25.5->fyers-apiv3) (1.17.0)\n"
          ]
        }
      ]
    },
    {
      "cell_type": "code",
      "execution_count": 2,
      "metadata": {
        "id": "mGBwPZeztcZi"
      },
      "outputs": [],
      "source": [
        "from fyers_apiv3 import fyersModel"
      ]
    },
    {
      "cell_type": "code",
      "source": [
        "client_id = \"Y3GS3QQYOP-100\"\n",
        "secret_key = \"8HTVRAGE07\"\n",
        "redirect_uri = \"https://www.google.com\"\n",
        "response_type = \"code\"\n",
        "state = \"sample_state\"\n",
        "grant_type = \"authorization_code\""
      ],
      "metadata": {
        "id": "DXHhOmfMtl2o"
      },
      "execution_count": 3,
      "outputs": []
    },
    {
      "cell_type": "code",
      "source": [
        "# Create a session model with the provided credentials\n",
        "session = fyersModel.SessionModel(\n",
        "    client_id=client_id,\n",
        "    secret_key=secret_key,\n",
        "    redirect_uri=redirect_uri,\n",
        "    response_type=response_type,\n",
        "    grant_type=grant_type\n",
        ")\n",
        "\n",
        "# Generate the auth code using the session model\n",
        "generateTokenUrl = session.generate_authcode()\n",
        "\n",
        "# Print the auth code received in the response\n",
        "print(generateTokenUrl)"
      ],
      "metadata": {
        "colab": {
          "base_uri": "https://localhost:8080/"
        },
        "id": "PjDqRp1IwdEJ",
        "outputId": "25034494-062f-422c-f2b0-3f60842e59ee"
      },
      "execution_count": 4,
      "outputs": [
        {
          "output_type": "stream",
          "name": "stdout",
          "text": [
            "https://api-t1.fyers.in/api/v3/generate-authcode?client_id=Y3GS3QQYOP-100&redirect_uri=https%3A%2F%2Fwww.google.com&response_type=code&state=None\n"
          ]
        }
      ]
    },
    {
      "cell_type": "code",
      "source": [
        "auth_code = \"eyJhbGciOiJIUzI1NiIsInR5cCI6IkpXVCJ9.eyJhcHBfaWQiOiJZM0dTM1FRWU9QIiwidXVpZCI6IjI2YTdiMDVlYmNjMDQ5YzliNTAyODhiZWJlOWZiNGM0IiwiaXBBZGRyIjoiIiwibm9uY2UiOiIiLCJzY29wZSI6IiIsImRpc3BsYXlfbmFtZSI6IlhBMDE5NjUiLCJvbXMiOiJLMSIsImhzbV9rZXkiOiJkNzRlYWYzMGE3Mjk2OGVhOWQ4ZDE5Yzk0ZDJmOWEyYzNhYjdlZmVmZWZjYmQ4NDZiMTliYTRkZCIsImlzRGRwaUVuYWJsZWQiOiJOIiwiaXNNdGZFbmFibGVkIjoiTiIsImF1ZCI6IltcImQ6MVwiLFwiZDoyXCIsXCJ4OjBcIixcIng6MVwiLFwieDoyXCJdIiwiZXhwIjoxNzU1NDMyNzIxLCJpYXQiOjE3NTU0MDI3MjEsImlzcyI6ImFwaS5sb2dpbi5meWVycy5pbiIsIm5iZiI6MTc1NTQwMjcyMSwic3ViIjoiYXV0aF9jb2RlIn0.5q89C2p5Ng44wsiZk1ClWMXcae-g62pCWkSdXCWZa7w\"\n",
        "session.set_token(auth_code)\n",
        "response = session.generate_token()['access_token']\n",
        "print(response)"
      ],
      "metadata": {
        "colab": {
          "base_uri": "https://localhost:8080/"
        },
        "id": "hgEXgNqcy_B6",
        "outputId": "798f4a79-43a1-4ab0-b7d7-365b0ef4219b"
      },
      "execution_count": 5,
      "outputs": [
        {
          "output_type": "stream",
          "name": "stdout",
          "text": [
            "eyJhbGciOiJIUzI1NiIsInR5cCI6IkpXVCJ9.eyJhdWQiOlsiZDoxIiwiZDoyIiwieDowIiwieDoxIiwieDoyIl0sImF0X2hhc2giOiJnQUFBQUFCb29WSDV2dXlYVEZ4cFEtanh6aFJ5RE4yV1FFd29oTThYUXJYeEFXQzNoTW5jaDlSUWQybmIwellOY1ZNSlRyYTFJcnFjMzRNazI5cDhGeTVKMHJxMktKWHV3VFBHZDlySDZnQWNZVnQtS29oNHBVOD0iLCJkaXNwbGF5X25hbWUiOiIiLCJvbXMiOiJLMSIsImhzbV9rZXkiOiJkNzRlYWYzMGE3Mjk2OGVhOWQ4ZDE5Yzk0ZDJmOWEyYzNhYjdlZmVmZWZjYmQ4NDZiMTliYTRkZCIsImlzRGRwaUVuYWJsZWQiOiJOIiwiaXNNdGZFbmFibGVkIjoiTiIsImZ5X2lkIjoiWEEwMTk2NSIsImFwcFR5cGUiOjEwMCwiZXhwIjoxNzU1NDc3MDAwLCJpYXQiOjE3NTU0MDI3NDUsImlzcyI6ImFwaS5meWVycy5pbiIsIm5iZiI6MTc1NTQwMjc0NSwic3ViIjoiYWNjZXNzX3Rva2VuIn0.aMWl16Ec1s4lua-U2Hozt_gakatBJB2we7eWIRspSSg\n"
          ]
        }
      ]
    },
    {
      "cell_type": "code",
      "source": [
        "# Initialize the FyersModel instance with your client_id, access_token, and enable async mode\n",
        "fyers = fyersModel.FyersModel(client_id=client_id, token=response,is_async=False, log_path=\"\")"
      ],
      "metadata": {
        "id": "YxnOVqwEwU7y"
      },
      "execution_count": 6,
      "outputs": []
    },
    {
      "cell_type": "code",
      "source": [
        "# Make a request to get the user profile information\n",
        "response = fyers.get_profile()\n",
        "\n",
        "# Print the response received from the Fyers API\n",
        "print(response)"
      ],
      "metadata": {
        "colab": {
          "base_uri": "https://localhost:8080/"
        },
        "id": "FUpxn0KItr0k",
        "outputId": "ee8f2612-93ba-4bcc-f7b9-86bbebfdf700"
      },
      "execution_count": 7,
      "outputs": [
        {
          "output_type": "stream",
          "name": "stdout",
          "text": [
            "{'s': 'ok', 'code': 200, 'message': '', 'data': {'fy_id': 'XA01965', 'name': 'ANVESH MISHRA', 'image': None, 'display_name': None, 'pin_change_date': '23-10-2024 09:06:29', 'email_id': 'anvesh87@gmail.com', 'pwd_change_date': '21-02-2022 00:27:18', 'PAN': '---------', 'mobile_number': '7970033966', 'totp': False, 'pwd_to_expire': -1123, 'ddpi_enabled': False, 'mtf_enabled': False}}\n"
          ]
        }
      ]
    },
    {
      "cell_type": "code",
      "source": [
        "data = {\n",
        "    \"symbols\":\"NSE:BANKBARODA-EQ\"\n",
        "}\n",
        "\n",
        "response11 = fyers.quotes(data=data)\n",
        "print(response11)"
      ],
      "metadata": {
        "colab": {
          "base_uri": "https://localhost:8080/"
        },
        "id": "u1F7JVtzv3YT",
        "outputId": "f3723290-9d3f-48e0-aef7-c2729378ec0d"
      },
      "execution_count": 12,
      "outputs": [
        {
          "output_type": "stream",
          "name": "stdout",
          "text": [
            "{'message': '', 'code': 200, 'd': [{'n': 'NSE:BANKBARODA-EQ', 'v': {'ask': 242.77, 'bid': 0, 'chp': 0.4, 'ch': 0.96, 'description': 'NSE:BANKBARODA-EQ', 'exchange': 'NSE', 'fyToken': '10100000004668', 'high_price': 243.8, 'low_price': 241.4, 'lp': 242.77, 'open_price': 241.99, 'original_name': 'NSE:BANKBARODA-EQ', 'prev_close_price': 242.77, 'short_name': 'BANKBARODA-EQ', 'spread': 0, 'symbol': 'NSE:BANKBARODA-EQ', 'tt': '1755302400', 'volume': 5398813, 'atp': 242.46}, 's': 'ok'}], 's': 'ok'}\n"
          ]
        }
      ]
    },
    {
      "cell_type": "code",
      "source": [
        "import pandas as pd\n",
        "import numpy\n",
        "from datetime import datetime, date, timedelta\n",
        "\n",
        "data = {\n",
        "    \"symbol\": \"NSE:NIFTY50-INDEX\",\n",
        "    \"strikecount\":50\n",
        "}\n",
        "ocdf = fyers.optionchain(data=data)\n",
        "ocdf = pd.DataFrame(ocdf['data']['optionsChain'])\n",
        "ocdf"
      ],
      "metadata": {
        "colab": {
          "base_uri": "https://localhost:8080/",
          "height": 211
        },
        "id": "dkos2l-937AH",
        "outputId": "3b545f9b-feb4-49a4-808d-51f6782b82bd"
      },
      "execution_count": 1,
      "outputs": [
        {
          "output_type": "error",
          "ename": "NameError",
          "evalue": "name 'fyers' is not defined",
          "traceback": [
            "\u001b[0;31m---------------------------------------------------------------------------\u001b[0m",
            "\u001b[0;31mNameError\u001b[0m                                 Traceback (most recent call last)",
            "\u001b[0;32m/tmp/ipython-input-160417637.py\u001b[0m in \u001b[0;36m<cell line: 0>\u001b[0;34m()\u001b[0m\n\u001b[1;32m      7\u001b[0m     \u001b[0;34m\"strikecount\"\u001b[0m\u001b[0;34m:\u001b[0m\u001b[0;36m50\u001b[0m\u001b[0;34m\u001b[0m\u001b[0;34m\u001b[0m\u001b[0m\n\u001b[1;32m      8\u001b[0m }\n\u001b[0;32m----> 9\u001b[0;31m \u001b[0mocdf\u001b[0m \u001b[0;34m=\u001b[0m \u001b[0mfyers\u001b[0m\u001b[0;34m.\u001b[0m\u001b[0moptionchain\u001b[0m\u001b[0;34m(\u001b[0m\u001b[0mdata\u001b[0m\u001b[0;34m=\u001b[0m\u001b[0mdata\u001b[0m\u001b[0;34m)\u001b[0m\u001b[0;34m\u001b[0m\u001b[0;34m\u001b[0m\u001b[0m\n\u001b[0m\u001b[1;32m     10\u001b[0m \u001b[0mocdf\u001b[0m \u001b[0;34m=\u001b[0m \u001b[0mpd\u001b[0m\u001b[0;34m.\u001b[0m\u001b[0mDataFrame\u001b[0m\u001b[0;34m(\u001b[0m\u001b[0mocdf\u001b[0m\u001b[0;34m[\u001b[0m\u001b[0;34m'data'\u001b[0m\u001b[0;34m]\u001b[0m\u001b[0;34m[\u001b[0m\u001b[0;34m'optionsChain'\u001b[0m\u001b[0;34m]\u001b[0m\u001b[0;34m)\u001b[0m\u001b[0;34m\u001b[0m\u001b[0;34m\u001b[0m\u001b[0m\n\u001b[1;32m     11\u001b[0m \u001b[0mocdf\u001b[0m\u001b[0;34m\u001b[0m\u001b[0;34m\u001b[0m\u001b[0m\n",
            "\u001b[0;31mNameError\u001b[0m: name 'fyers' is not defined"
          ]
        }
      ]
    },
    {
      "cell_type": "code",
      "source": [
        "spotPrice = ocdf.iloc[0]['ltp']\n",
        "spotPrice"
      ],
      "metadata": {
        "colab": {
          "base_uri": "https://localhost:8080/"
        },
        "id": "peJGX5evwX3D",
        "outputId": "e09d78b7-f11b-4e5b-ad00-677f3b180baa"
      },
      "execution_count": 10,
      "outputs": [
        {
          "output_type": "execute_result",
          "data": {
            "text/plain": [
              "np.float64(24631.3)"
            ]
          },
          "metadata": {},
          "execution_count": 10
        }
      ]
    }
  ]
}